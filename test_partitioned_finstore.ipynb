{
 "cells": [
  {
   "cell_type": "code",
   "execution_count": 1,
   "id": "8b22cc64-7164-4c6b-af79-5521e7c8cd4f",
   "metadata": {},
   "outputs": [],
   "source": [
    "import time\n",
    "import pandas as pd\n",
    "import numpy as np\n",
    "from finstore.finstore import Finstore\n",
    "from finstore.finstore_s3 import PartitionType"
   ]
  },
  {
   "cell_type": "code",
   "execution_count": 2,
   "id": "878da660-ed2f-42ba-8950-07e08a0e61fd",
   "metadata": {},
   "outputs": [
    {
     "name": "stdout",
     "output_type": "stream",
     "text": [
      "Len items in 'database/finstore/market_name=crypto_binance/timeframe=1m': 78\n"
     ]
    }
   ],
   "source": [
    "f = Finstore(market_name=\"crypto_binance\", timeframe=\"1m\", partition_type = PartitionType.DAILY)"
   ]
  },
  {
   "cell_type": "markdown",
   "id": "3fb7ab3c-48ab-4435-a019-93b9de2e7f52",
   "metadata": {},
   "source": [
    "# Generate Mock Data"
   ]
  },
  {
   "cell_type": "code",
   "execution_count": 3,
   "id": "40878c28-0c01-4f89-ae61-c035d628cb4e",
   "metadata": {},
   "outputs": [
    {
     "name": "stdout",
     "output_type": "stream",
     "text": [
      "Generated 14400 timestamps.\n"
     ]
    }
   ],
   "source": [
    "num_days = 10\n",
    "total_rows = num_days * 1440\n",
    "all_dates = pd.date_range(\"2025-01-01\", periods=total_rows, freq='min', tz='UTC')\n",
    "print(f\"Generated {len(all_dates)} timestamps.\")\n",
    "\n",
    "# Create random OHLCV data with a timestamp column\n",
    "df = pd.DataFrame({\n",
    "     'timestamp': all_dates,\n",
    "     'open': np.random.rand(len(all_dates)),\n",
    "     'high': np.random.rand(len(all_dates)),\n",
    "     'low': np.random.rand(len(all_dates)),\n",
    "     'close': np.random.rand(len(all_dates)),\n",
    "     'volume': np.random.randint(100, 1000, size=len(all_dates))\n",
    "})"
   ]
  },
  {
   "cell_type": "code",
   "execution_count": 4,
   "id": "6cbb0d38-cb84-4bfb-b856-f3eafb15d454",
   "metadata": {},
   "outputs": [
    {
     "data": {
      "text/html": [
       "<div>\n",
       "<style scoped>\n",
       "    .dataframe tbody tr th:only-of-type {\n",
       "        vertical-align: middle;\n",
       "    }\n",
       "\n",
       "    .dataframe tbody tr th {\n",
       "        vertical-align: top;\n",
       "    }\n",
       "\n",
       "    .dataframe thead th {\n",
       "        text-align: right;\n",
       "    }\n",
       "</style>\n",
       "<table border=\"1\" class=\"dataframe\">\n",
       "  <thead>\n",
       "    <tr style=\"text-align: right;\">\n",
       "      <th></th>\n",
       "      <th>timestamp</th>\n",
       "      <th>open</th>\n",
       "      <th>high</th>\n",
       "      <th>low</th>\n",
       "      <th>close</th>\n",
       "      <th>volume</th>\n",
       "    </tr>\n",
       "  </thead>\n",
       "  <tbody>\n",
       "    <tr>\n",
       "      <th>0</th>\n",
       "      <td>2025-01-01 00:00:00+00:00</td>\n",
       "      <td>0.777260</td>\n",
       "      <td>0.566313</td>\n",
       "      <td>0.871219</td>\n",
       "      <td>0.823743</td>\n",
       "      <td>875</td>\n",
       "    </tr>\n",
       "    <tr>\n",
       "      <th>1</th>\n",
       "      <td>2025-01-01 00:01:00+00:00</td>\n",
       "      <td>0.864125</td>\n",
       "      <td>0.073993</td>\n",
       "      <td>0.060385</td>\n",
       "      <td>0.531568</td>\n",
       "      <td>900</td>\n",
       "    </tr>\n",
       "    <tr>\n",
       "      <th>2</th>\n",
       "      <td>2025-01-01 00:02:00+00:00</td>\n",
       "      <td>0.674777</td>\n",
       "      <td>0.113464</td>\n",
       "      <td>0.678046</td>\n",
       "      <td>0.038857</td>\n",
       "      <td>278</td>\n",
       "    </tr>\n",
       "    <tr>\n",
       "      <th>3</th>\n",
       "      <td>2025-01-01 00:03:00+00:00</td>\n",
       "      <td>0.425262</td>\n",
       "      <td>0.802596</td>\n",
       "      <td>0.452586</td>\n",
       "      <td>0.242788</td>\n",
       "      <td>727</td>\n",
       "    </tr>\n",
       "    <tr>\n",
       "      <th>4</th>\n",
       "      <td>2025-01-01 00:04:00+00:00</td>\n",
       "      <td>0.156033</td>\n",
       "      <td>0.400442</td>\n",
       "      <td>0.636652</td>\n",
       "      <td>0.090131</td>\n",
       "      <td>523</td>\n",
       "    </tr>\n",
       "    <tr>\n",
       "      <th>...</th>\n",
       "      <td>...</td>\n",
       "      <td>...</td>\n",
       "      <td>...</td>\n",
       "      <td>...</td>\n",
       "      <td>...</td>\n",
       "      <td>...</td>\n",
       "    </tr>\n",
       "    <tr>\n",
       "      <th>14395</th>\n",
       "      <td>2025-01-10 23:55:00+00:00</td>\n",
       "      <td>0.894074</td>\n",
       "      <td>0.769238</td>\n",
       "      <td>0.574076</td>\n",
       "      <td>0.727304</td>\n",
       "      <td>634</td>\n",
       "    </tr>\n",
       "    <tr>\n",
       "      <th>14396</th>\n",
       "      <td>2025-01-10 23:56:00+00:00</td>\n",
       "      <td>0.787833</td>\n",
       "      <td>0.271091</td>\n",
       "      <td>0.678884</td>\n",
       "      <td>0.921527</td>\n",
       "      <td>506</td>\n",
       "    </tr>\n",
       "    <tr>\n",
       "      <th>14397</th>\n",
       "      <td>2025-01-10 23:57:00+00:00</td>\n",
       "      <td>0.189437</td>\n",
       "      <td>0.191940</td>\n",
       "      <td>0.131817</td>\n",
       "      <td>0.163295</td>\n",
       "      <td>953</td>\n",
       "    </tr>\n",
       "    <tr>\n",
       "      <th>14398</th>\n",
       "      <td>2025-01-10 23:58:00+00:00</td>\n",
       "      <td>0.107091</td>\n",
       "      <td>0.736420</td>\n",
       "      <td>0.807895</td>\n",
       "      <td>0.122124</td>\n",
       "      <td>138</td>\n",
       "    </tr>\n",
       "    <tr>\n",
       "      <th>14399</th>\n",
       "      <td>2025-01-10 23:59:00+00:00</td>\n",
       "      <td>0.007475</td>\n",
       "      <td>0.619390</td>\n",
       "      <td>0.412016</td>\n",
       "      <td>0.606242</td>\n",
       "      <td>484</td>\n",
       "    </tr>\n",
       "  </tbody>\n",
       "</table>\n",
       "<p>14400 rows × 6 columns</p>\n",
       "</div>"
      ],
      "text/plain": [
       "                      timestamp      open      high       low     close  \\\n",
       "0     2025-01-01 00:00:00+00:00  0.777260  0.566313  0.871219  0.823743   \n",
       "1     2025-01-01 00:01:00+00:00  0.864125  0.073993  0.060385  0.531568   \n",
       "2     2025-01-01 00:02:00+00:00  0.674777  0.113464  0.678046  0.038857   \n",
       "3     2025-01-01 00:03:00+00:00  0.425262  0.802596  0.452586  0.242788   \n",
       "4     2025-01-01 00:04:00+00:00  0.156033  0.400442  0.636652  0.090131   \n",
       "...                         ...       ...       ...       ...       ...   \n",
       "14395 2025-01-10 23:55:00+00:00  0.894074  0.769238  0.574076  0.727304   \n",
       "14396 2025-01-10 23:56:00+00:00  0.787833  0.271091  0.678884  0.921527   \n",
       "14397 2025-01-10 23:57:00+00:00  0.189437  0.191940  0.131817  0.163295   \n",
       "14398 2025-01-10 23:58:00+00:00  0.107091  0.736420  0.807895  0.122124   \n",
       "14399 2025-01-10 23:59:00+00:00  0.007475  0.619390  0.412016  0.606242   \n",
       "\n",
       "       volume  \n",
       "0         875  \n",
       "1         900  \n",
       "2         278  \n",
       "3         727  \n",
       "4         523  \n",
       "...       ...  \n",
       "14395     634  \n",
       "14396     506  \n",
       "14397     953  \n",
       "14398     138  \n",
       "14399     484  \n",
       "\n",
       "[14400 rows x 6 columns]"
      ]
     },
     "execution_count": 4,
     "metadata": {},
     "output_type": "execute_result"
    }
   ],
   "source": [
    "df"
   ]
  },
  {
   "cell_type": "markdown",
   "id": "9764e671-84c0-4384-9e68-afdc47e042b6",
   "metadata": {},
   "source": [
    "# Store Data with Daily Partitioning"
   ]
  },
  {
   "cell_type": "code",
   "execution_count": 5,
   "id": "f555d1ce-7696-4411-8df9-530d3e094b1d",
   "metadata": {},
   "outputs": [
    {
     "name": "stdout",
     "output_type": "stream",
     "text": [
      "Stored 1440 rows to s3://my-ohlcv-bucket/crypto_binance/1m/BTC/USDT/2025-01-01/ohlcv_data.parquet\n",
      "Stored 1440 rows to s3://my-ohlcv-bucket/crypto_binance/1m/BTC/USDT/2025-01-02/ohlcv_data.parquet\n",
      "Stored 1440 rows to s3://my-ohlcv-bucket/crypto_binance/1m/BTC/USDT/2025-01-03/ohlcv_data.parquet\n",
      "Stored 1440 rows to s3://my-ohlcv-bucket/crypto_binance/1m/BTC/USDT/2025-01-04/ohlcv_data.parquet\n",
      "Stored 1440 rows to s3://my-ohlcv-bucket/crypto_binance/1m/BTC/USDT/2025-01-05/ohlcv_data.parquet\n",
      "Stored 1440 rows to s3://my-ohlcv-bucket/crypto_binance/1m/BTC/USDT/2025-01-06/ohlcv_data.parquet\n",
      "Stored 1440 rows to s3://my-ohlcv-bucket/crypto_binance/1m/BTC/USDT/2025-01-07/ohlcv_data.parquet\n",
      "Stored 1440 rows to s3://my-ohlcv-bucket/crypto_binance/1m/BTC/USDT/2025-01-08/ohlcv_data.parquet\n",
      "Stored 1440 rows to s3://my-ohlcv-bucket/crypto_binance/1m/BTC/USDT/2025-01-09/ohlcv_data.parquet\n",
      "Stored 1440 rows to s3://my-ohlcv-bucket/crypto_binance/1m/BTC/USDT/2025-01-10/ohlcv_data.parquet\n",
      "CPU times: user 275 ms, sys: 48.7 ms, total: 324 ms\n",
      "Wall time: 501 ms\n"
     ]
    }
   ],
   "source": [
    "%%time\n",
    "f.s3.store(symbol=\"BTC/USDT\", df=df)"
   ]
  },
  {
   "cell_type": "markdown",
   "id": "6c69fdc8",
   "metadata": {},
   "source": [
    "# Fetching Data"
   ]
  },
  {
   "cell_type": "code",
   "execution_count": 6,
   "id": "60fa5aa7",
   "metadata": {},
   "outputs": [
    {
     "name": "stdout",
     "output_type": "stream",
     "text": [
      "CPU times: user 358 ms, sys: 86.6 ms, total: 445 ms\n",
      "Wall time: 251 ms\n"
     ]
    }
   ],
   "source": [
    "%%time\n",
    "fetched_df = f.s3.fetch(symbol=\"BTC/USDT\", \n",
    "                        start_date=\"2025-01-01\", \n",
    "                        end_date=\"2025-01-10\")"
   ]
  },
  {
   "cell_type": "code",
   "execution_count": 8,
   "id": "03966657",
   "metadata": {},
   "outputs": [
    {
     "name": "stdout",
     "output_type": "stream",
     "text": [
      "CPU times: user 74.3 ms, sys: 24 ms, total: 98.3 ms\n",
      "Wall time: 86.3 ms\n"
     ]
    }
   ],
   "source": [
    "%%time\n",
    "fetched_df = f.s3.fetch(symbol=\"BTC/USDT\", \n",
    "                        start_date=\"2025-01-01\", \n",
    "                        end_date=\"2025-01-5\")"
   ]
  },
  {
   "cell_type": "markdown",
   "id": "cde3a78a",
   "metadata": {},
   "source": [
    "# Deleting Data"
   ]
  },
  {
   "cell_type": "code",
   "execution_count": 9,
   "id": "89d30619",
   "metadata": {},
   "outputs": [
    {
     "name": "stdout",
     "output_type": "stream",
     "text": [
      "Deleted s3://my-ohlcv-bucket/crypto_binance/1m/BTC/USDT/2025-01-05/ohlcv_data.parquet\n",
      "CPU times: user 8.97 ms, sys: 0 ns, total: 8.97 ms\n",
      "Wall time: 29.3 ms\n"
     ]
    }
   ],
   "source": [
    "%%time\n",
    "f.s3.delete(symbol=\"BTC/USDT\", partition_value=\"2025-01-05\")"
   ]
  },
  {
   "cell_type": "code",
   "execution_count": 10,
   "id": "544353db",
   "metadata": {},
   "outputs": [
    {
     "data": {
      "text/html": [
       "<div>\n",
       "<style scoped>\n",
       "    .dataframe tbody tr th:only-of-type {\n",
       "        vertical-align: middle;\n",
       "    }\n",
       "\n",
       "    .dataframe tbody tr th {\n",
       "        vertical-align: top;\n",
       "    }\n",
       "\n",
       "    .dataframe thead th {\n",
       "        text-align: right;\n",
       "    }\n",
       "</style>\n",
       "<table border=\"1\" class=\"dataframe\">\n",
       "  <thead>\n",
       "    <tr style=\"text-align: right;\">\n",
       "      <th></th>\n",
       "      <th>timestamp</th>\n",
       "      <th>open</th>\n",
       "      <th>high</th>\n",
       "      <th>low</th>\n",
       "      <th>close</th>\n",
       "      <th>volume</th>\n",
       "      <th>partition</th>\n",
       "    </tr>\n",
       "  </thead>\n",
       "  <tbody>\n",
       "    <tr>\n",
       "      <th>0</th>\n",
       "      <td>2025-01-01 00:00:00+00:00</td>\n",
       "      <td>0.777260</td>\n",
       "      <td>0.566313</td>\n",
       "      <td>0.871219</td>\n",
       "      <td>0.823743</td>\n",
       "      <td>875</td>\n",
       "      <td>2025-01-01</td>\n",
       "    </tr>\n",
       "    <tr>\n",
       "      <th>1</th>\n",
       "      <td>2025-01-01 00:01:00+00:00</td>\n",
       "      <td>0.864125</td>\n",
       "      <td>0.073993</td>\n",
       "      <td>0.060385</td>\n",
       "      <td>0.531568</td>\n",
       "      <td>900</td>\n",
       "      <td>2025-01-01</td>\n",
       "    </tr>\n",
       "    <tr>\n",
       "      <th>2</th>\n",
       "      <td>2025-01-01 00:02:00+00:00</td>\n",
       "      <td>0.674777</td>\n",
       "      <td>0.113464</td>\n",
       "      <td>0.678046</td>\n",
       "      <td>0.038857</td>\n",
       "      <td>278</td>\n",
       "      <td>2025-01-01</td>\n",
       "    </tr>\n",
       "    <tr>\n",
       "      <th>3</th>\n",
       "      <td>2025-01-01 00:03:00+00:00</td>\n",
       "      <td>0.425262</td>\n",
       "      <td>0.802596</td>\n",
       "      <td>0.452586</td>\n",
       "      <td>0.242788</td>\n",
       "      <td>727</td>\n",
       "      <td>2025-01-01</td>\n",
       "    </tr>\n",
       "    <tr>\n",
       "      <th>4</th>\n",
       "      <td>2025-01-01 00:04:00+00:00</td>\n",
       "      <td>0.156033</td>\n",
       "      <td>0.400442</td>\n",
       "      <td>0.636652</td>\n",
       "      <td>0.090131</td>\n",
       "      <td>523</td>\n",
       "      <td>2025-01-01</td>\n",
       "    </tr>\n",
       "    <tr>\n",
       "      <th>...</th>\n",
       "      <td>...</td>\n",
       "      <td>...</td>\n",
       "      <td>...</td>\n",
       "      <td>...</td>\n",
       "      <td>...</td>\n",
       "      <td>...</td>\n",
       "      <td>...</td>\n",
       "    </tr>\n",
       "    <tr>\n",
       "      <th>12955</th>\n",
       "      <td>2025-01-10 23:55:00+00:00</td>\n",
       "      <td>0.894074</td>\n",
       "      <td>0.769238</td>\n",
       "      <td>0.574076</td>\n",
       "      <td>0.727304</td>\n",
       "      <td>634</td>\n",
       "      <td>2025-01-10</td>\n",
       "    </tr>\n",
       "    <tr>\n",
       "      <th>12956</th>\n",
       "      <td>2025-01-10 23:56:00+00:00</td>\n",
       "      <td>0.787833</td>\n",
       "      <td>0.271091</td>\n",
       "      <td>0.678884</td>\n",
       "      <td>0.921527</td>\n",
       "      <td>506</td>\n",
       "      <td>2025-01-10</td>\n",
       "    </tr>\n",
       "    <tr>\n",
       "      <th>12957</th>\n",
       "      <td>2025-01-10 23:57:00+00:00</td>\n",
       "      <td>0.189437</td>\n",
       "      <td>0.191940</td>\n",
       "      <td>0.131817</td>\n",
       "      <td>0.163295</td>\n",
       "      <td>953</td>\n",
       "      <td>2025-01-10</td>\n",
       "    </tr>\n",
       "    <tr>\n",
       "      <th>12958</th>\n",
       "      <td>2025-01-10 23:58:00+00:00</td>\n",
       "      <td>0.107091</td>\n",
       "      <td>0.736420</td>\n",
       "      <td>0.807895</td>\n",
       "      <td>0.122124</td>\n",
       "      <td>138</td>\n",
       "      <td>2025-01-10</td>\n",
       "    </tr>\n",
       "    <tr>\n",
       "      <th>12959</th>\n",
       "      <td>2025-01-10 23:59:00+00:00</td>\n",
       "      <td>0.007475</td>\n",
       "      <td>0.619390</td>\n",
       "      <td>0.412016</td>\n",
       "      <td>0.606242</td>\n",
       "      <td>484</td>\n",
       "      <td>2025-01-10</td>\n",
       "    </tr>\n",
       "  </tbody>\n",
       "</table>\n",
       "<p>12960 rows × 7 columns</p>\n",
       "</div>"
      ],
      "text/plain": [
       "                      timestamp      open      high       low     close  \\\n",
       "0     2025-01-01 00:00:00+00:00  0.777260  0.566313  0.871219  0.823743   \n",
       "1     2025-01-01 00:01:00+00:00  0.864125  0.073993  0.060385  0.531568   \n",
       "2     2025-01-01 00:02:00+00:00  0.674777  0.113464  0.678046  0.038857   \n",
       "3     2025-01-01 00:03:00+00:00  0.425262  0.802596  0.452586  0.242788   \n",
       "4     2025-01-01 00:04:00+00:00  0.156033  0.400442  0.636652  0.090131   \n",
       "...                         ...       ...       ...       ...       ...   \n",
       "12955 2025-01-10 23:55:00+00:00  0.894074  0.769238  0.574076  0.727304   \n",
       "12956 2025-01-10 23:56:00+00:00  0.787833  0.271091  0.678884  0.921527   \n",
       "12957 2025-01-10 23:57:00+00:00  0.189437  0.191940  0.131817  0.163295   \n",
       "12958 2025-01-10 23:58:00+00:00  0.107091  0.736420  0.807895  0.122124   \n",
       "12959 2025-01-10 23:59:00+00:00  0.007475  0.619390  0.412016  0.606242   \n",
       "\n",
       "       volume   partition  \n",
       "0         875  2025-01-01  \n",
       "1         900  2025-01-01  \n",
       "2         278  2025-01-01  \n",
       "3         727  2025-01-01  \n",
       "4         523  2025-01-01  \n",
       "...       ...         ...  \n",
       "12955     634  2025-01-10  \n",
       "12956     506  2025-01-10  \n",
       "12957     953  2025-01-10  \n",
       "12958     138  2025-01-10  \n",
       "12959     484  2025-01-10  \n",
       "\n",
       "[12960 rows x 7 columns]"
      ]
     },
     "execution_count": 10,
     "metadata": {},
     "output_type": "execute_result"
    }
   ],
   "source": [
    "f.s3.fetch(symbol=\"BTC/USDT\", \n",
    "            start_date=\"2025-01-01\", \n",
    "            end_date=\"2025-01-10\")"
   ]
  },
  {
   "cell_type": "code",
   "execution_count": 11,
   "id": "87d4bcbc",
   "metadata": {},
   "outputs": [
    {
     "name": "stdout",
     "output_type": "stream",
     "text": [
      "Deleted s3://my-ohlcv-bucket/crypto_binance/1m/BTC/USDT/2025-01-01/ohlcv_data.parquet\n",
      "Deleted s3://my-ohlcv-bucket/crypto_binance/1m/BTC/USDT/2025-01-02/ohlcv_data.parquet\n",
      "Deleted s3://my-ohlcv-bucket/crypto_binance/1m/BTC/USDT/2025-01-03/ohlcv_data.parquet\n",
      "Deleted s3://my-ohlcv-bucket/crypto_binance/1m/BTC/USDT/2025-01-04/ohlcv_data.parquet\n",
      "Deleted s3://my-ohlcv-bucket/crypto_binance/1m/BTC/USDT/2025-01-06/ohlcv_data.parquet\n",
      "Deleted s3://my-ohlcv-bucket/crypto_binance/1m/BTC/USDT/2025-01-07/ohlcv_data.parquet\n",
      "Deleted s3://my-ohlcv-bucket/crypto_binance/1m/BTC/USDT/2025-01-08/ohlcv_data.parquet\n",
      "Deleted s3://my-ohlcv-bucket/crypto_binance/1m/BTC/USDT/2025-01-09/ohlcv_data.parquet\n",
      "Deleted s3://my-ohlcv-bucket/crypto_binance/1m/BTC/USDT/2025-01-10/ohlcv_data.parquet\n",
      "CPU times: user 38.4 ms, sys: 0 ns, total: 38.4 ms\n",
      "Wall time: 93.2 ms\n"
     ]
    }
   ],
   "source": [
    "%%time\n",
    "f.s3.delete(symbol=\"BTC/USDT\")"
   ]
  }
 ],
 "metadata": {
  "kernelspec": {
   "display_name": "Python 3",
   "language": "python",
   "name": "python3"
  },
  "language_info": {
   "codemirror_mode": {
    "name": "ipython",
    "version": 3
   },
   "file_extension": ".py",
   "mimetype": "text/x-python",
   "name": "python",
   "nbconvert_exporter": "python",
   "pygments_lexer": "ipython3",
   "version": "3.11.11"
  }
 },
 "nbformat": 4,
 "nbformat_minor": 5
}
