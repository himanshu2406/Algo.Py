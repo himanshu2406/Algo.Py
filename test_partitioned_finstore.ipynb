{
 "cells": [
  {
   "cell_type": "code",
   "execution_count": 1,
   "id": "8b22cc64-7164-4c6b-af79-5521e7c8cd4f",
   "metadata": {},
   "outputs": [],
   "source": [
    "import time\n",
    "import pandas as pd\n",
    "import numpy as np\n",
    "from finstore.finstore import Finstore\n",
    "from finstore.finstore_s3 import PartitionType"
   ]
  },
  {
   "cell_type": "code",
   "execution_count": null,
   "id": "878da660-ed2f-42ba-8950-07e08a0e61fd",
   "metadata": {},
   "outputs": [],
   "source": [
    "f = Finstore(market_name=\"crypto_binance\", timeframe=\"1m\", partition_type = PartitionType.DAILY)"
   ]
  },
  {
   "cell_type": "markdown",
   "id": "3fb7ab3c-48ab-4435-a019-93b9de2e7f52",
   "metadata": {},
   "source": [
    "# Generate Mock Data"
   ]
  },
  {
   "cell_type": "code",
   "execution_count": 3,
   "id": "40878c28-0c01-4f89-ae61-c035d628cb4e",
   "metadata": {},
   "outputs": [
    {
     "name": "stdout",
     "output_type": "stream",
     "text": [
      "Generated 14400 timestamps.\n"
     ]
    }
   ],
   "source": [
    "num_days = 10\n",
    "total_rows = num_days * 1440\n",
    "all_dates = pd.date_range(\"2025-01-01\", periods=total_rows, freq='min', tz='UTC')\n",
    "print(f\"Generated {len(all_dates)} timestamps.\")\n",
    "\n",
    "# Create random OHLCV data with a timestamp column\n",
    "df = pd.DataFrame({\n",
    "     'timestamp': all_dates,\n",
    "     'open': np.random.rand(len(all_dates)),\n",
    "     'high': np.random.rand(len(all_dates)),\n",
    "     'low': np.random.rand(len(all_dates)),\n",
    "     'close': np.random.rand(len(all_dates)),\n",
    "     'volume': np.random.randint(100, 1000, size=len(all_dates))\n",
    "})"
   ]
  },
  {
   "cell_type": "code",
   "execution_count": 4,
   "id": "6cbb0d38-cb84-4bfb-b856-f3eafb15d454",
   "metadata": {},
   "outputs": [
    {
     "data": {
      "text/html": [
       "<div>\n",
       "<style scoped>\n",
       "    .dataframe tbody tr th:only-of-type {\n",
       "        vertical-align: middle;\n",
       "    }\n",
       "\n",
       "    .dataframe tbody tr th {\n",
       "        vertical-align: top;\n",
       "    }\n",
       "\n",
       "    .dataframe thead th {\n",
       "        text-align: right;\n",
       "    }\n",
       "</style>\n",
       "<table border=\"1\" class=\"dataframe\">\n",
       "  <thead>\n",
       "    <tr style=\"text-align: right;\">\n",
       "      <th></th>\n",
       "      <th>timestamp</th>\n",
       "      <th>open</th>\n",
       "      <th>high</th>\n",
       "      <th>low</th>\n",
       "      <th>close</th>\n",
       "      <th>volume</th>\n",
       "    </tr>\n",
       "  </thead>\n",
       "  <tbody>\n",
       "    <tr>\n",
       "      <th>0</th>\n",
       "      <td>2025-01-01 00:00:00+00:00</td>\n",
       "      <td>0.038043</td>\n",
       "      <td>0.654339</td>\n",
       "      <td>0.419680</td>\n",
       "      <td>0.980483</td>\n",
       "      <td>487</td>\n",
       "    </tr>\n",
       "    <tr>\n",
       "      <th>1</th>\n",
       "      <td>2025-01-01 00:01:00+00:00</td>\n",
       "      <td>0.060033</td>\n",
       "      <td>0.484785</td>\n",
       "      <td>0.296628</td>\n",
       "      <td>0.973226</td>\n",
       "      <td>318</td>\n",
       "    </tr>\n",
       "    <tr>\n",
       "      <th>2</th>\n",
       "      <td>2025-01-01 00:02:00+00:00</td>\n",
       "      <td>0.125746</td>\n",
       "      <td>0.935153</td>\n",
       "      <td>0.690261</td>\n",
       "      <td>0.629535</td>\n",
       "      <td>157</td>\n",
       "    </tr>\n",
       "    <tr>\n",
       "      <th>3</th>\n",
       "      <td>2025-01-01 00:03:00+00:00</td>\n",
       "      <td>0.000360</td>\n",
       "      <td>0.881578</td>\n",
       "      <td>0.238030</td>\n",
       "      <td>0.653138</td>\n",
       "      <td>674</td>\n",
       "    </tr>\n",
       "    <tr>\n",
       "      <th>4</th>\n",
       "      <td>2025-01-01 00:04:00+00:00</td>\n",
       "      <td>0.169392</td>\n",
       "      <td>0.366717</td>\n",
       "      <td>0.166004</td>\n",
       "      <td>0.966910</td>\n",
       "      <td>586</td>\n",
       "    </tr>\n",
       "    <tr>\n",
       "      <th>...</th>\n",
       "      <td>...</td>\n",
       "      <td>...</td>\n",
       "      <td>...</td>\n",
       "      <td>...</td>\n",
       "      <td>...</td>\n",
       "      <td>...</td>\n",
       "    </tr>\n",
       "    <tr>\n",
       "      <th>14395</th>\n",
       "      <td>2025-01-10 23:55:00+00:00</td>\n",
       "      <td>0.683137</td>\n",
       "      <td>0.159707</td>\n",
       "      <td>0.762966</td>\n",
       "      <td>0.349553</td>\n",
       "      <td>280</td>\n",
       "    </tr>\n",
       "    <tr>\n",
       "      <th>14396</th>\n",
       "      <td>2025-01-10 23:56:00+00:00</td>\n",
       "      <td>0.131895</td>\n",
       "      <td>0.608151</td>\n",
       "      <td>0.974880</td>\n",
       "      <td>0.524510</td>\n",
       "      <td>521</td>\n",
       "    </tr>\n",
       "    <tr>\n",
       "      <th>14397</th>\n",
       "      <td>2025-01-10 23:57:00+00:00</td>\n",
       "      <td>0.793416</td>\n",
       "      <td>0.030099</td>\n",
       "      <td>0.282857</td>\n",
       "      <td>0.867185</td>\n",
       "      <td>131</td>\n",
       "    </tr>\n",
       "    <tr>\n",
       "      <th>14398</th>\n",
       "      <td>2025-01-10 23:58:00+00:00</td>\n",
       "      <td>0.155255</td>\n",
       "      <td>0.194681</td>\n",
       "      <td>0.568610</td>\n",
       "      <td>0.566962</td>\n",
       "      <td>591</td>\n",
       "    </tr>\n",
       "    <tr>\n",
       "      <th>14399</th>\n",
       "      <td>2025-01-10 23:59:00+00:00</td>\n",
       "      <td>0.080100</td>\n",
       "      <td>0.641116</td>\n",
       "      <td>0.678096</td>\n",
       "      <td>0.081081</td>\n",
       "      <td>227</td>\n",
       "    </tr>\n",
       "  </tbody>\n",
       "</table>\n",
       "<p>14400 rows × 6 columns</p>\n",
       "</div>"
      ],
      "text/plain": [
       "                      timestamp      open      high       low     close  \\\n",
       "0     2025-01-01 00:00:00+00:00  0.038043  0.654339  0.419680  0.980483   \n",
       "1     2025-01-01 00:01:00+00:00  0.060033  0.484785  0.296628  0.973226   \n",
       "2     2025-01-01 00:02:00+00:00  0.125746  0.935153  0.690261  0.629535   \n",
       "3     2025-01-01 00:03:00+00:00  0.000360  0.881578  0.238030  0.653138   \n",
       "4     2025-01-01 00:04:00+00:00  0.169392  0.366717  0.166004  0.966910   \n",
       "...                         ...       ...       ...       ...       ...   \n",
       "14395 2025-01-10 23:55:00+00:00  0.683137  0.159707  0.762966  0.349553   \n",
       "14396 2025-01-10 23:56:00+00:00  0.131895  0.608151  0.974880  0.524510   \n",
       "14397 2025-01-10 23:57:00+00:00  0.793416  0.030099  0.282857  0.867185   \n",
       "14398 2025-01-10 23:58:00+00:00  0.155255  0.194681  0.568610  0.566962   \n",
       "14399 2025-01-10 23:59:00+00:00  0.080100  0.641116  0.678096  0.081081   \n",
       "\n",
       "       volume  \n",
       "0         487  \n",
       "1         318  \n",
       "2         157  \n",
       "3         674  \n",
       "4         586  \n",
       "...       ...  \n",
       "14395     280  \n",
       "14396     521  \n",
       "14397     131  \n",
       "14398     591  \n",
       "14399     227  \n",
       "\n",
       "[14400 rows x 6 columns]"
      ]
     },
     "execution_count": 4,
     "metadata": {},
     "output_type": "execute_result"
    }
   ],
   "source": [
    "df"
   ]
  },
  {
   "cell_type": "markdown",
   "id": "9764e671-84c0-4384-9e68-afdc47e042b6",
   "metadata": {},
   "source": [
    "# Store Data with Daily Partitioning"
   ]
  },
  {
   "cell_type": "code",
   "execution_count": 19,
   "id": "f555d1ce-7696-4411-8df9-530d3e094b1d",
   "metadata": {},
   "outputs": [
    {
     "name": "stdout",
     "output_type": "stream",
     "text": [
      "Stored 1440 rows to s3://my-ohlcv-bucket/crypto_binance/1m/BTC/USDT/2025-01-01/ohlcv_data.parquet\n",
      "Stored 1440 rows to s3://my-ohlcv-bucket/crypto_binance/1m/BTC/USDT/2025-01-02/ohlcv_data.parquet\n",
      "Stored 1440 rows to s3://my-ohlcv-bucket/crypto_binance/1m/BTC/USDT/2025-01-03/ohlcv_data.parquet\n",
      "Stored 1440 rows to s3://my-ohlcv-bucket/crypto_binance/1m/BTC/USDT/2025-01-04/ohlcv_data.parquet\n",
      "Stored 1440 rows to s3://my-ohlcv-bucket/crypto_binance/1m/BTC/USDT/2025-01-05/ohlcv_data.parquet\n",
      "Stored 1440 rows to s3://my-ohlcv-bucket/crypto_binance/1m/BTC/USDT/2025-01-06/ohlcv_data.parquet\n",
      "Stored 1440 rows to s3://my-ohlcv-bucket/crypto_binance/1m/BTC/USDT/2025-01-07/ohlcv_data.parquet\n",
      "Stored 1440 rows to s3://my-ohlcv-bucket/crypto_binance/1m/BTC/USDT/2025-01-08/ohlcv_data.parquet\n",
      "Stored 1440 rows to s3://my-ohlcv-bucket/crypto_binance/1m/BTC/USDT/2025-01-09/ohlcv_data.parquet\n",
      "Stored 1440 rows to s3://my-ohlcv-bucket/crypto_binance/1m/BTC/USDT/2025-01-10/ohlcv_data.parquet\n",
      "CPU times: user 142 ms, sys: 28.4 ms, total: 170 ms\n",
      "Wall time: 235 ms\n"
     ]
    }
   ],
   "source": [
    "%%time\n",
    "f.s3.store(symbol=\"BTC/USDT\", df=df)"
   ]
  },
  {
   "cell_type": "markdown",
   "id": "6c69fdc8",
   "metadata": {},
   "source": [
    "# Fetching Data"
   ]
  },
  {
   "cell_type": "code",
   "execution_count": 20,
   "id": "60fa5aa7",
   "metadata": {},
   "outputs": [
    {
     "name": "stdout",
     "output_type": "stream",
     "text": [
      "CPU times: user 106 ms, sys: 1.78 ms, total: 108 ms\n",
      "Wall time: 73.7 ms\n"
     ]
    }
   ],
   "source": [
    "%%time\n",
    "fetched_df = f.s3.fetch(symbol=\"BTC/USDT\", \n",
    "                        start_date=\"2025-01-01\", \n",
    "                        end_date=\"2025-01-10\")"
   ]
  },
  {
   "cell_type": "code",
   "execution_count": 21,
   "id": "03966657",
   "metadata": {},
   "outputs": [
    {
     "name": "stdout",
     "output_type": "stream",
     "text": [
      "CPU times: user 55.1 ms, sys: 3.97 ms, total: 59 ms\n",
      "Wall time: 39.9 ms\n"
     ]
    }
   ],
   "source": [
    "%%time\n",
    "fetched_df = f.s3.fetch(symbol=\"BTC/USDT\", \n",
    "                        start_date=\"2025-01-01\", \n",
    "                        end_date=\"2025-01-5\")"
   ]
  },
  {
   "cell_type": "code",
   "execution_count": 22,
   "id": "9bee46b7",
   "metadata": {},
   "outputs": [
    {
     "name": "stdout",
     "output_type": "stream",
     "text": [
      "CPU times: user 48.2 ms, sys: 48.1 ms, total: 96.4 ms\n",
      "Wall time: 79.9 ms\n"
     ]
    }
   ],
   "source": [
    "%%time\n",
    "fetched_df = f.s3.fetch(symbol=\"BTC/USDT\")"
   ]
  },
  {
   "cell_type": "markdown",
   "id": "cde3a78a",
   "metadata": {},
   "source": [
    "# Deleting Data"
   ]
  },
  {
   "cell_type": "code",
   "execution_count": 23,
   "id": "89d30619",
   "metadata": {},
   "outputs": [
    {
     "name": "stdout",
     "output_type": "stream",
     "text": [
      "Deleted s3://my-ohlcv-bucket/crypto_binance/1m/BTC/USDT/2025-01-05/ohlcv_data.parquet\n",
      "CPU times: user 6.39 ms, sys: 0 ns, total: 6.39 ms\n",
      "Wall time: 6.96 ms\n"
     ]
    }
   ],
   "source": [
    "%%time\n",
    "f.s3.delete(symbol=\"BTC/USDT\", partition_value=\"2025-01-05\")"
   ]
  },
  {
   "cell_type": "code",
   "execution_count": 24,
   "id": "544353db",
   "metadata": {},
   "outputs": [
    {
     "data": {
      "text/html": [
       "<div>\n",
       "<style scoped>\n",
       "    .dataframe tbody tr th:only-of-type {\n",
       "        vertical-align: middle;\n",
       "    }\n",
       "\n",
       "    .dataframe tbody tr th {\n",
       "        vertical-align: top;\n",
       "    }\n",
       "\n",
       "    .dataframe thead th {\n",
       "        text-align: right;\n",
       "    }\n",
       "</style>\n",
       "<table border=\"1\" class=\"dataframe\">\n",
       "  <thead>\n",
       "    <tr style=\"text-align: right;\">\n",
       "      <th></th>\n",
       "      <th>timestamp</th>\n",
       "      <th>open</th>\n",
       "      <th>high</th>\n",
       "      <th>low</th>\n",
       "      <th>close</th>\n",
       "      <th>volume</th>\n",
       "      <th>partition</th>\n",
       "    </tr>\n",
       "  </thead>\n",
       "  <tbody>\n",
       "    <tr>\n",
       "      <th>0</th>\n",
       "      <td>2025-01-01 00:00:00+00:00</td>\n",
       "      <td>0.038043</td>\n",
       "      <td>0.654339</td>\n",
       "      <td>0.419680</td>\n",
       "      <td>0.980483</td>\n",
       "      <td>487</td>\n",
       "      <td>2025-01-01</td>\n",
       "    </tr>\n",
       "    <tr>\n",
       "      <th>1</th>\n",
       "      <td>2025-01-01 00:01:00+00:00</td>\n",
       "      <td>0.060033</td>\n",
       "      <td>0.484785</td>\n",
       "      <td>0.296628</td>\n",
       "      <td>0.973226</td>\n",
       "      <td>318</td>\n",
       "      <td>2025-01-01</td>\n",
       "    </tr>\n",
       "    <tr>\n",
       "      <th>2</th>\n",
       "      <td>2025-01-01 00:02:00+00:00</td>\n",
       "      <td>0.125746</td>\n",
       "      <td>0.935153</td>\n",
       "      <td>0.690261</td>\n",
       "      <td>0.629535</td>\n",
       "      <td>157</td>\n",
       "      <td>2025-01-01</td>\n",
       "    </tr>\n",
       "    <tr>\n",
       "      <th>3</th>\n",
       "      <td>2025-01-01 00:03:00+00:00</td>\n",
       "      <td>0.000360</td>\n",
       "      <td>0.881578</td>\n",
       "      <td>0.238030</td>\n",
       "      <td>0.653138</td>\n",
       "      <td>674</td>\n",
       "      <td>2025-01-01</td>\n",
       "    </tr>\n",
       "    <tr>\n",
       "      <th>4</th>\n",
       "      <td>2025-01-01 00:04:00+00:00</td>\n",
       "      <td>0.169392</td>\n",
       "      <td>0.366717</td>\n",
       "      <td>0.166004</td>\n",
       "      <td>0.966910</td>\n",
       "      <td>586</td>\n",
       "      <td>2025-01-01</td>\n",
       "    </tr>\n",
       "    <tr>\n",
       "      <th>...</th>\n",
       "      <td>...</td>\n",
       "      <td>...</td>\n",
       "      <td>...</td>\n",
       "      <td>...</td>\n",
       "      <td>...</td>\n",
       "      <td>...</td>\n",
       "      <td>...</td>\n",
       "    </tr>\n",
       "    <tr>\n",
       "      <th>12955</th>\n",
       "      <td>2025-01-10 23:55:00+00:00</td>\n",
       "      <td>0.683137</td>\n",
       "      <td>0.159707</td>\n",
       "      <td>0.762966</td>\n",
       "      <td>0.349553</td>\n",
       "      <td>280</td>\n",
       "      <td>2025-01-10</td>\n",
       "    </tr>\n",
       "    <tr>\n",
       "      <th>12956</th>\n",
       "      <td>2025-01-10 23:56:00+00:00</td>\n",
       "      <td>0.131895</td>\n",
       "      <td>0.608151</td>\n",
       "      <td>0.974880</td>\n",
       "      <td>0.524510</td>\n",
       "      <td>521</td>\n",
       "      <td>2025-01-10</td>\n",
       "    </tr>\n",
       "    <tr>\n",
       "      <th>12957</th>\n",
       "      <td>2025-01-10 23:57:00+00:00</td>\n",
       "      <td>0.793416</td>\n",
       "      <td>0.030099</td>\n",
       "      <td>0.282857</td>\n",
       "      <td>0.867185</td>\n",
       "      <td>131</td>\n",
       "      <td>2025-01-10</td>\n",
       "    </tr>\n",
       "    <tr>\n",
       "      <th>12958</th>\n",
       "      <td>2025-01-10 23:58:00+00:00</td>\n",
       "      <td>0.155255</td>\n",
       "      <td>0.194681</td>\n",
       "      <td>0.568610</td>\n",
       "      <td>0.566962</td>\n",
       "      <td>591</td>\n",
       "      <td>2025-01-10</td>\n",
       "    </tr>\n",
       "    <tr>\n",
       "      <th>12959</th>\n",
       "      <td>2025-01-10 23:59:00+00:00</td>\n",
       "      <td>0.080100</td>\n",
       "      <td>0.641116</td>\n",
       "      <td>0.678096</td>\n",
       "      <td>0.081081</td>\n",
       "      <td>227</td>\n",
       "      <td>2025-01-10</td>\n",
       "    </tr>\n",
       "  </tbody>\n",
       "</table>\n",
       "<p>12960 rows × 7 columns</p>\n",
       "</div>"
      ],
      "text/plain": [
       "                      timestamp      open      high       low     close  \\\n",
       "0     2025-01-01 00:00:00+00:00  0.038043  0.654339  0.419680  0.980483   \n",
       "1     2025-01-01 00:01:00+00:00  0.060033  0.484785  0.296628  0.973226   \n",
       "2     2025-01-01 00:02:00+00:00  0.125746  0.935153  0.690261  0.629535   \n",
       "3     2025-01-01 00:03:00+00:00  0.000360  0.881578  0.238030  0.653138   \n",
       "4     2025-01-01 00:04:00+00:00  0.169392  0.366717  0.166004  0.966910   \n",
       "...                         ...       ...       ...       ...       ...   \n",
       "12955 2025-01-10 23:55:00+00:00  0.683137  0.159707  0.762966  0.349553   \n",
       "12956 2025-01-10 23:56:00+00:00  0.131895  0.608151  0.974880  0.524510   \n",
       "12957 2025-01-10 23:57:00+00:00  0.793416  0.030099  0.282857  0.867185   \n",
       "12958 2025-01-10 23:58:00+00:00  0.155255  0.194681  0.568610  0.566962   \n",
       "12959 2025-01-10 23:59:00+00:00  0.080100  0.641116  0.678096  0.081081   \n",
       "\n",
       "       volume   partition  \n",
       "0         487  2025-01-01  \n",
       "1         318  2025-01-01  \n",
       "2         157  2025-01-01  \n",
       "3         674  2025-01-01  \n",
       "4         586  2025-01-01  \n",
       "...       ...         ...  \n",
       "12955     280  2025-01-10  \n",
       "12956     521  2025-01-10  \n",
       "12957     131  2025-01-10  \n",
       "12958     591  2025-01-10  \n",
       "12959     227  2025-01-10  \n",
       "\n",
       "[12960 rows x 7 columns]"
      ]
     },
     "execution_count": 24,
     "metadata": {},
     "output_type": "execute_result"
    }
   ],
   "source": [
    "f.s3.fetch(symbol=\"BTC/USDT\")"
   ]
  },
  {
   "cell_type": "code",
   "execution_count": 25,
   "id": "87d4bcbc",
   "metadata": {},
   "outputs": [
    {
     "name": "stdout",
     "output_type": "stream",
     "text": [
      "Deleted s3://my-ohlcv-bucket/crypto_binance/1m/BTC/USDT/2025-01-01/ohlcv_data.parquet\n",
      "Deleted s3://my-ohlcv-bucket/crypto_binance/1m/BTC/USDT/2025-01-02/ohlcv_data.parquet\n",
      "Deleted s3://my-ohlcv-bucket/crypto_binance/1m/BTC/USDT/2025-01-03/ohlcv_data.parquet\n",
      "Deleted s3://my-ohlcv-bucket/crypto_binance/1m/BTC/USDT/2025-01-04/ohlcv_data.parquet\n",
      "Deleted s3://my-ohlcv-bucket/crypto_binance/1m/BTC/USDT/2025-01-06/ohlcv_data.parquet\n",
      "Deleted s3://my-ohlcv-bucket/crypto_binance/1m/BTC/USDT/2025-01-07/ohlcv_data.parquet\n",
      "Deleted s3://my-ohlcv-bucket/crypto_binance/1m/BTC/USDT/2025-01-08/ohlcv_data.parquet\n",
      "Deleted s3://my-ohlcv-bucket/crypto_binance/1m/BTC/USDT/2025-01-09/ohlcv_data.parquet\n",
      "Deleted s3://my-ohlcv-bucket/crypto_binance/1m/BTC/USDT/2025-01-10/ohlcv_data.parquet\n",
      "CPU times: user 31.7 ms, sys: 0 ns, total: 31.7 ms\n",
      "Wall time: 55.7 ms\n"
     ]
    }
   ],
   "source": [
    "%%time\n",
    "f.s3.delete(symbol=\"BTC/USDT\")"
   ]
  },
  {
   "cell_type": "code",
   "execution_count": 26,
   "id": "4660732b",
   "metadata": {},
   "outputs": [
    {
     "data": {
      "text/html": [
       "<div>\n",
       "<style scoped>\n",
       "    .dataframe tbody tr th:only-of-type {\n",
       "        vertical-align: middle;\n",
       "    }\n",
       "\n",
       "    .dataframe tbody tr th {\n",
       "        vertical-align: top;\n",
       "    }\n",
       "\n",
       "    .dataframe thead th {\n",
       "        text-align: right;\n",
       "    }\n",
       "</style>\n",
       "<table border=\"1\" class=\"dataframe\">\n",
       "  <thead>\n",
       "    <tr style=\"text-align: right;\">\n",
       "      <th></th>\n",
       "    </tr>\n",
       "  </thead>\n",
       "  <tbody>\n",
       "  </tbody>\n",
       "</table>\n",
       "</div>"
      ],
      "text/plain": [
       "Empty DataFrame\n",
       "Columns: []\n",
       "Index: []"
      ]
     },
     "execution_count": 26,
     "metadata": {},
     "output_type": "execute_result"
    }
   ],
   "source": [
    "f.s3.fetch(symbol=\"BTC/USDT\")"
   ]
  }
 ],
 "metadata": {
  "kernelspec": {
   "display_name": "Python 3",
   "language": "python",
   "name": "python3"
  },
  "language_info": {
   "codemirror_mode": {
    "name": "ipython",
    "version": 3
   },
   "file_extension": ".py",
   "mimetype": "text/x-python",
   "name": "python",
   "nbconvert_exporter": "python",
   "pygments_lexer": "ipython3",
   "version": "3.11.11"
  }
 },
 "nbformat": 4,
 "nbformat_minor": 5
}
